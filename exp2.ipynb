{
 "cells": [
  {
   "cell_type": "code",
   "execution_count": 10,
   "metadata": {},
   "outputs": [
    {
     "name": "stdout",
     "output_type": "stream",
     "text": [
      "For x = 51, predicted y = [6.44476658e+20]\n",
      "For x = 52, predicted y = [6.63317246e+20]\n",
      "For x = 53, predicted y = [6.82157834e+20]\n",
      "For x = 54, predicted y = [7.00998422e+20]\n",
      "For x = 55, predicted y = [7.1983901e+20]\n",
      "For x = 56, predicted y = [7.38679598e+20]\n",
      "For x = 57, predicted y = [7.57520186e+20]\n",
      "For x = 58, predicted y = [7.76360774e+20]\n",
      "For x = 59, predicted y = [7.95201362e+20]\n",
      "For x = 60, predicted y = [8.14041949e+20]\n"
     ]
    }
   ],
   "source": [
    "import numpy as np\n",
    "from sklearn.linear_model import LinearRegression\n",
    "\n",
    "# Given range\n",
    "x_values = np.arange(1, 51).reshape(-1, 1)  # Reshape to a column vector\n",
    "y_values = np.exp(x_values)\n",
    "\n",
    "# Create and fit a linear regression model\n",
    "model = LinearRegression()\n",
    "model.fit(x_values, y_values)\n",
    "\n",
    "# Predict values for x = 51 to 60\n",
    "new_x_values = np.arange(51, 61).reshape(-1, 1)\n",
    "predicted_y_values = model.predict(new_x_values)\n",
    "\n",
    "# Print the results\n",
    "for x, y in zip(new_x_values.flatten(), predicted_y_values):\n",
    "    print(f\"For x = {x}, predicted y = {y}\")"
   ]
  },
  {
   "cell_type": "code",
   "execution_count": 11,
   "metadata": {},
   "outputs": [
    {
     "name": "stdout",
     "output_type": "stream",
     "text": [
      "[1.88405879e+19]\n",
      "-3.163933233552058e+20\n"
     ]
    }
   ],
   "source": [
    "slope= model.coef_[0]\n",
    "print(slope)\n",
    "\n",
    "interGAy = model.intercept_[0]\n",
    "print(interGAy)"
   ]
  },
  {
   "cell_type": "code",
   "execution_count": 13,
   "metadata": {},
   "outputs": [
    {
     "ename": "AttributeError",
     "evalue": "'numpy.ndarray' object has no attribute 'head'",
     "output_type": "error",
     "traceback": [
      "\u001b[1;31m---------------------------------------------------------------------------\u001b[0m",
      "\u001b[1;31mAttributeError\u001b[0m                            Traceback (most recent call last)",
      "Cell \u001b[1;32mIn[13], line 3\u001b[0m\n\u001b[0;32m      1\u001b[0m \u001b[38;5;28;01mfrom\u001b[39;00m \u001b[38;5;21;01msklearn\u001b[39;00m\u001b[38;5;21;01m.\u001b[39;00m\u001b[38;5;21;01mmetrics\u001b[39;00m \u001b[38;5;28;01mimport\u001b[39;00m mean_squared_error\n\u001b[1;32m----> 3\u001b[0m error \u001b[38;5;241m=\u001b[39m mean_squared_error(y_values\u001b[38;5;241m.\u001b[39mhead(\u001b[38;5;241m10\u001b[39m) ,predicted_y_values)\n\u001b[0;32m      5\u001b[0m \u001b[38;5;28mprint\u001b[39m(\u001b[38;5;124m'\u001b[39m\u001b[38;5;124merror --> \u001b[39m\u001b[38;5;124m'\u001b[39m, error)\n",
      "\u001b[1;31mAttributeError\u001b[0m: 'numpy.ndarray' object has no attribute 'head'"
     ]
    }
   ],
   "source": [
    "from sklearn.metrics import mean_squared_error\n",
    "\n",
    "error = mean_squared_error(y_values.head ,predicted_y_values)\n",
    "\n",
    "print('error --> ', error) "
   ]
  }
 ],
 "metadata": {
  "kernelspec": {
   "display_name": "base",
   "language": "python",
   "name": "python3"
  },
  "language_info": {
   "codemirror_mode": {
    "name": "ipython",
    "version": 3
   },
   "file_extension": ".py",
   "mimetype": "text/x-python",
   "name": "python",
   "nbconvert_exporter": "python",
   "pygments_lexer": "ipython3",
   "version": "3.11.5"
  }
 },
 "nbformat": 4,
 "nbformat_minor": 2
}
